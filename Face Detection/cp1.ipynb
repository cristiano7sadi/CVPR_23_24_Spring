{
  "nbformat": 4,
  "nbformat_minor": 0,
  "metadata": {
    "colab": {
      "provenance": []
    },
    "kernelspec": {
      "name": "python3",
      "display_name": "Python 3"
    },
    "language_info": {
      "name": "python"
    }
  },
  "cells": [
    {
      "cell_type": "code",
      "execution_count": null,
      "metadata": {
        "id": "MtSQCbiYyQ3a",
        "colab": {
          "base_uri": "https://localhost:8080/"
        },
        "outputId": "30d15054-ac17-47bd-82b8-771c5f3124c0"
      },
      "outputs": [
        {
          "output_type": "stream",
          "name": "stdout",
          "text": [
            "[1, 2, 3, 4, 5, 6, 7, 8, 9, 10]\n"
          ]
        }
      ],
      "source": [
        "#List operation: 1\n",
        "\n",
        "list1 = [x for x in range(1, 11)]\n",
        "print(list1)"
      ]
    },
    {
      "cell_type": "code",
      "source": [
        "#List operation: 2\n",
        "\n",
        "list1 = [x for x in range(1, 11)]\n",
        "\n",
        "list1.extend([x ** 2 for x in list1])\n",
        "\n",
        "print(list1)"
      ],
      "metadata": {
        "id": "NzMT5P3szHym",
        "colab": {
          "base_uri": "https://localhost:8080/"
        },
        "outputId": "038403a9-5e01-48ba-d9c4-e5511b10b17c"
      },
      "execution_count": null,
      "outputs": [
        {
          "output_type": "stream",
          "name": "stdout",
          "text": [
            "[1, 2, 3, 4, 5, 6, 7, 8, 9, 10, 1, 4, 9, 16, 25, 36, 49, 64, 81, 100]\n"
          ]
        }
      ]
    },
    {
      "cell_type": "code",
      "source": [
        "numbers = list(range(1, 11))\n",
        "\n",
        "for num in range(1, 11):\n",
        "    numbers.append(num ** 2)\n",
        "print( sum(numbers))"
      ],
      "metadata": {
        "colab": {
          "base_uri": "https://localhost:8080/",
          "height": 211
        },
        "id": "cuaRKqQ30Nhp",
        "outputId": "a36ea514-43c2-45e7-b808-ff064bf08c7a"
      },
      "execution_count": 26,
      "outputs": [
        {
          "output_type": "error",
          "ename": "TypeError",
          "evalue": "'int' object is not callable",
          "traceback": [
            "\u001b[0;31m---------------------------------------------------------------------------\u001b[0m",
            "\u001b[0;31mTypeError\u001b[0m                                 Traceback (most recent call last)",
            "\u001b[0;32m<ipython-input-26-ed7b795bc92a>\u001b[0m in \u001b[0;36m<cell line: 5>\u001b[0;34m()\u001b[0m\n\u001b[1;32m      3\u001b[0m \u001b[0;32mfor\u001b[0m \u001b[0mnum\u001b[0m \u001b[0;32min\u001b[0m \u001b[0mrange\u001b[0m\u001b[0;34m(\u001b[0m\u001b[0;36m1\u001b[0m\u001b[0;34m,\u001b[0m \u001b[0;36m11\u001b[0m\u001b[0;34m)\u001b[0m\u001b[0;34m:\u001b[0m\u001b[0;34m\u001b[0m\u001b[0;34m\u001b[0m\u001b[0m\n\u001b[1;32m      4\u001b[0m     \u001b[0mnumbers\u001b[0m\u001b[0;34m.\u001b[0m\u001b[0mappend\u001b[0m\u001b[0;34m(\u001b[0m\u001b[0mnum\u001b[0m \u001b[0;34m**\u001b[0m \u001b[0;36m2\u001b[0m\u001b[0;34m)\u001b[0m\u001b[0;34m\u001b[0m\u001b[0;34m\u001b[0m\u001b[0m\n\u001b[0;32m----> 5\u001b[0;31m \u001b[0mprint\u001b[0m\u001b[0;34m(\u001b[0m \u001b[0msum\u001b[0m\u001b[0;34m(\u001b[0m\u001b[0mnumbers\u001b[0m\u001b[0;34m)\u001b[0m\u001b[0;34m)\u001b[0m\u001b[0;34m\u001b[0m\u001b[0;34m\u001b[0m\u001b[0m\n\u001b[0m",
            "\u001b[0;31mTypeError\u001b[0m: 'int' object is not callable"
          ]
        }
      ]
    },
    {
      "cell_type": "code",
      "source": [
        "#Tuple operation: 1\n",
        "\n",
        "tuple_even = tuple(x for x in range(2, 12, 2))\n",
        "\n",
        "print(tuple_even)"
      ],
      "metadata": {
        "colab": {
          "base_uri": "https://localhost:8080/"
        },
        "id": "TYA06H825hHy",
        "outputId": "be50db8a-8060-4522-ae90-4bd42b4be5f6"
      },
      "execution_count": 21,
      "outputs": [
        {
          "output_type": "stream",
          "name": "stdout",
          "text": [
            "(2, 4, 6, 8, 10)\n"
          ]
        }
      ]
    },
    {
      "cell_type": "code",
      "source": [
        "#Tuple operation: 2\n",
        "\n",
        "tuple_even = tuple(x for x in range(2, 12, 2))\n",
        "print(tuple_even)\n",
        "\n",
        "product = 1\n",
        "for num in tuple_even:\n",
        "    product *= num\n",
        "\n",
        "print(product)\n"
      ],
      "metadata": {
        "colab": {
          "base_uri": "https://localhost:8080/"
        },
        "id": "UySxhl0a6R-F",
        "outputId": "66638700-04c9-4e6a-efa5-5ea6a903faea"
      },
      "execution_count": 22,
      "outputs": [
        {
          "output_type": "stream",
          "name": "stdout",
          "text": [
            "(2, 4, 6, 8, 10)\n",
            "3840\n"
          ]
        }
      ]
    },
    {
      "cell_type": "code",
      "source": [
        "#Set operation: 1\n",
        "\n",
        "set1 = {x for x in range(1, 11) if x % 2 != 0}\n",
        "set2 = {x for x in range(1, 11) if x % 2 != 0}\n",
        "\n",
        "print(\"Set 1 of odd numbers:\", set1)\n",
        "print(\"Set 2 of odd numbers:\", set2)"
      ],
      "metadata": {
        "colab": {
          "base_uri": "https://localhost:8080/"
        },
        "id": "oYqtRmGm6fOA",
        "outputId": "0313c7de-b5b5-474b-d396-c555a226ce53"
      },
      "execution_count": 24,
      "outputs": [
        {
          "output_type": "stream",
          "name": "stdout",
          "text": [
            "Set 1 of odd numbers: {1, 3, 5, 7, 9}\n",
            "Set 2 of odd numbers: {1, 3, 5, 7, 9}\n"
          ]
        }
      ]
    },
    {
      "cell_type": "code",
      "source": [
        "#Set operation: 2\n",
        "\n",
        "set1 = {x for x in range(1, 11) if x % 2 != 0}\n",
        "set2 = {x for x in range(1, 11) if x % 2 != 0}\n",
        "\n",
        "print(\"Set 1 of odd numbers:\", set1)\n",
        "print(\"Set 2 of odd numbers:\", set2)\n",
        "\n",
        "union_set = set1 | set2\n",
        "\n",
        "print(union_set)"
      ],
      "metadata": {
        "colab": {
          "base_uri": "https://localhost:8080/"
        },
        "id": "Qvjr4SCO7KbQ",
        "outputId": "8e3e3ff2-f950-4019-8ef3-1ee428313508"
      },
      "execution_count": 25,
      "outputs": [
        {
          "output_type": "stream",
          "name": "stdout",
          "text": [
            "Set 1 of odd numbers: {1, 3, 5, 7, 9}\n",
            "Set 2 of odd numbers: {1, 3, 5, 7, 9}\n",
            "{1, 3, 5, 7, 9}\n"
          ]
        }
      ]
    },
    {
      "cell_type": "code",
      "source": [
        "#Set operation: 3\n",
        "\n",
        "set1 = {x for x in range(1, 11) if x % 2 != 0}\n",
        "set2 = {x for x in range(1, 11) if x % 2 != 0}\n",
        "\n",
        "print(\"Set 1 of odd numbers:\", set1)\n",
        "print(\"Set 2 of odd numbers:\", set2)\n",
        "\n",
        "intersection_set = set1 & set2\n",
        "\n",
        "print(intersection_set)"
      ],
      "metadata": {
        "colab": {
          "base_uri": "https://localhost:8080/"
        },
        "id": "eOC9Xwz47wkY",
        "outputId": "2f3e01c9-6563-466a-f171-21ff2fbc8d87"
      },
      "execution_count": 27,
      "outputs": [
        {
          "output_type": "stream",
          "name": "stdout",
          "text": [
            "Set 1 of odd numbers: {1, 3, 5, 7, 9}\n",
            "Set 2 of odd numbers: {1, 3, 5, 7, 9}\n",
            "{1, 3, 5, 7, 9}\n"
          ]
        }
      ]
    },
    {
      "cell_type": "code",
      "source": [
        "#Dictionary operation: 1\n",
        "\n",
        "lowercase_dict = {}\n",
        "\n",
        "for char in 'abcde':\n",
        "    lowercase_dict[char] = ord(char)"
      ],
      "metadata": {
        "id": "C2ZXvqbD8oXM"
      },
      "execution_count": 31,
      "outputs": []
    },
    {
      "cell_type": "code",
      "source": [
        "#Dictionary operation: 2\n",
        "\n",
        "lowercase_dict = {}\n",
        "\n",
        "for char in 'abcde':\n",
        "    lowercase_dict[char] = ord(char)\n",
        "\n",
        "print(lowercase_dict)"
      ],
      "metadata": {
        "colab": {
          "base_uri": "https://localhost:8080/"
        },
        "id": "3-g1XEWn9piR",
        "outputId": "b817f148-65b8-460b-b243-fa052bd5791f"
      },
      "execution_count": 32,
      "outputs": [
        {
          "output_type": "stream",
          "name": "stdout",
          "text": [
            "{'a': 97, 'b': 98, 'c': 99, 'd': 100, 'e': 101}\n"
          ]
        }
      ]
    },
    {
      "cell_type": "code",
      "source": [
        "#Functional programming: 1\n",
        "\n",
        "def square(x):\n",
        "    return x * x"
      ],
      "metadata": {
        "id": "iB7N61B-96DC"
      },
      "execution_count": null,
      "outputs": []
    },
    {
      "cell_type": "code",
      "source": [
        "#Functional programming: 2\n",
        "\n",
        "def square(x):\n",
        "    return x * x\n",
        "\n",
        "numbers = list(range(1, 11))\n",
        "\n",
        "squared_numbers = map(square, numbers)\n",
        "\n",
        "print(list(squared_numbers))"
      ],
      "metadata": {
        "colab": {
          "base_uri": "https://localhost:8080/"
        },
        "id": "230Dr2zt-hFj",
        "outputId": "e002d653-94fe-4ee6-f3fc-43a68e316e7b"
      },
      "execution_count": 33,
      "outputs": [
        {
          "output_type": "stream",
          "name": "stdout",
          "text": [
            "[1, 4, 9, 16, 25, 36, 49, 64, 81, 100]\n"
          ]
        }
      ]
    }
  ]
}